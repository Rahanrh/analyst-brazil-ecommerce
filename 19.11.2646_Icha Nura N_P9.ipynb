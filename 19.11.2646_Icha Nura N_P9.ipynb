{
 "cells": [
  {
   "cell_type": "code",
   "execution_count": 109,
   "id": "bea75738-4e5b-4e8b-b6f7-2093e431b83c",
   "metadata": {},
   "outputs": [],
   "source": [
    "#NAMA : ICHA NURA NUGRAHA\n",
    "#KELAS: S1-INFORMATIKA BDL-5\n",
    "#NIM : 19.11.2646"
   ]
  },
  {
   "cell_type": "code",
   "execution_count": 29,
   "id": "5aaeb4d3-3c5b-4420-99bd-f2c10e33faa0",
   "metadata": {},
   "outputs": [
    {
     "name": "stdout",
     "output_type": "stream",
     "text": [
      "\n",
      "===== Kompetensi 1 =====\n",
      "1.  3\n",
      "2.  (4, 3, 2, 1)\n",
      "3. \n",
      "{'Nama': 'Angga', 'umur': 25}\n",
      "{'umur': '25 '}\n",
      "\n",
      "===== Kesimpulan =====\n",
      "Python memiliki banyak tipe data dengan berbagai fungsi salah satunya adalah\n",
      "tipe data integer dengan float yang memiliki persamaan untuk melakukan perhitungan matematis \n",
      "dalam tipe data integer dan float memiliki perbedaan di dalam menyimpan nilai desimal  \n",
      "sedangkan tipe data integer tidak adapun list dan tuple, kedua tipe data ini hampir sama berisi bilangan atau text yang \n",
      "disimpan secara berurutan untuk membedakanya adalah tipe data tuple tidak dapat melakukan perubahan nilai\n",
      "\n"
     ]
    }
   ],
   "source": [
    "print(\"\\n\"+5*\"=\"+\" Kompetensi 1 \"+5*\"=\")\n",
    "desimal = 3.14 \n",
    "desimal = int(desimal) #konversi desimal ke dalam integer\n",
    "print(\"1. \", desimal)\n",
    "\n",
    "daftar_tuple=(1,2,3,4)\n",
    "daftar_tuple=list(daftar_tuple) #Variable tipe data tuple ke tipe data list\n",
    "daftar_tuple.sort(reverse=True) #list bentuk Descending\n",
    "daftar_tuple=tuple(daftar_tuple) #Mengganti Variable tipe data list ke tipe data tuple\n",
    "print(\"2. \", daftar_tuple)\n",
    "\n",
    "print(\"3. \")\n",
    "anggota = {\"Nama\" :\"Angga\",\"umur\":25}\n",
    "print(anggota)\n",
    "anggota = {\"umur\" :\"25 \"} #langkah mengubah nilai key umur\n",
    "print(anggota)\n",
    "\n",
    "print(\"\\n\"+5*\"=\"+\" Kesimpulan \"+5*\"=\")\n",
    "print(\n",
    "r\"\"\"Python memiliki banyak tipe data dengan berbagai fungsi salah satunya adalah\n",
    "tipe data integer dengan float yang memiliki persamaan untuk melakukan perhitungan matematis \n",
    "dalam tipe data integer dan float memiliki perbedaan di dalam menyimpan nilai desimal  \n",
    "sedangkan tipe data integer tidak adapun list dan tuple, kedua tipe data ini hampir sama berisi bilangan atau text yang \n",
    "disimpan secara berurutan untuk membedakanya adalah tipe data tuple tidak dapat melakukan perubahan nilai\n",
    "\"\"\")\n",
    "\n"
   ]
  },
  {
   "cell_type": "code",
   "execution_count": 19,
   "id": "e67c78cc-99b0-49fd-8aec-c4ee71c87ad1",
   "metadata": {},
   "outputs": [
    {
     "name": "stdout",
     "output_type": "stream",
     "text": [
      "\n",
      "===== Kompetensi 2 =====\n",
      "1.  10\n",
      "2.  Luas Lingkaran :  153.86 cm\n",
      "3.  15 jam 37.5 menit\n",
      "\n",
      "===== Kesimpulan =====\n",
      "Operator memanipulasi nilai dari operan, dalam berbagai macam operator dengan\n",
      "simbol yang digunakan dalam melakukan operasi salah satunya alur logika dan melakukan perhitungan\n",
      "Operator dapat berupa simbol atau karakter seperti - ,* , + , % , /  yang memiliki \n",
      "fungsi sebagai proses operasi aritmatika, pembanding, penugasan, logical, keanggotaan dsb\n",
      "\n"
     ]
    }
   ],
   "source": [
    "print(\"\\n\"+5*\"=\"+\" Kompetensi 2 \"+5*\"=\")\n",
    "\n",
    "barang = 10\n",
    "barang2 = barang #menambah nilai variable barang2 dengan variabel barang\n",
    "print(\"1. \", barang2)\n",
    "\n",
    "phi = 3.14 \n",
    "r = 7 \n",
    "luasLingkaran = phi * r * r #rumus luas lingkaran\n",
    "print(\"2.  Luas Lingkaran : \", luasLingkaran, \"cm\")\n",
    "\n",
    "volKolam = 25000 #liter\n",
    "volIsi = 75 # % (persen)\n",
    "debitAir = 20 # liter(menit)\n",
    "waktu = (volKolam * (volIsi/100) / (debitAir * 60)) #lama waktu pengisian \n",
    "waktuMenit=(float(waktu)-int(waktu)) / 100 * 6000 #konversi hasil desimal ke satuan menit\n",
    "print(\"3. \", int(waktu), \"jam\", waktuMenit, (\"menit\"))\n",
    "\n",
    "print(\"\\n\"+5*\"=\"+\" Kesimpulan \"+5*\"=\")\n",
    "print(\n",
    "r\"\"\"Operator memanipulasi nilai dari operan, dalam berbagai macam operator dengan\n",
    "simbol yang digunakan dalam melakukan operasi salah satunya alur logika dan melakukan perhitungan\n",
    "Operator dapat berupa simbol atau karakter seperti - ,* , + , % , /  yang memiliki \n",
    "fungsi sebagai proses operasi aritmatika, pembanding, penugasan, logical, keanggotaan dsb\n",
    "\"\"\")"
   ]
  },
  {
   "cell_type": "code",
   "execution_count": 59,
   "id": "8e7c2a72-3500-439c-9272-d6634010821b",
   "metadata": {},
   "outputs": [
    {
     "name": "stdout",
     "output_type": "stream",
     "text": [
      "\n",
      "=====Kompetensi 3.A===== \n",
      "\n",
      "1.Fungsi dalam python \n",
      "merupakan blok kode terorganisir dalam melakukan aksi atau tindakan tertentuagar memberi \n",
      "suatu nilai balik,dalam setiap fungsi memberi nilai return Nilai kembalian agar fungsi \n",
      "menghasilkan nilai tertentu. \n",
      " \n",
      " \" Contoh \" \n",
      "\n",
      "Halo Icha, selamat datang!\n",
      "\n",
      "2. Built in Function dan User Defined Function \n",
      " \n",
      "Built-In Function adalah salah satu bagian dari fungsi secara bawaan dari dalam bahasa pemrograman\n",
      "Sedangkan untuk User Defined Function adalah fungsi kita (sebagai programmer) untuk membuat dan \n",
      "mendefinisikan suatu program tersebut.\n",
      "\n",
      "===== Kesimpulan ===== \n",
      "\n",
      "Adanya penggunaan dari fungsi sebagai programer dapat memecah/menyusun suatu program dalam \n",
      "berbagai bagian dengan memiliki nilai variable yang berada didalam fungsi terssebut sebagai nilai \n",
      "variable dari proses yang digunakan terdapat sebuah deskripsi dalam fungsi yang dikelola. \n",
      "Deskripsi tersebut ditampilkan oleh Text Editor atau IDE sebagai alat bantuan sebagai fungsi\n",
      "Dari segi tempat pemanggilan, Dala fungsi python dapat dipanggil dari berbagai tempat Bisa dariBisa\n"
     ]
    }
   ],
   "source": [
    "print(\"\\n\"+5*\"=\"+\"Kompetensi 3.A\"+5*\"=\",\"\\n\")\n",
    "\n",
    "print(r\"\"\"1.Fungsi dalam python \n",
    "merupakan blok kode terorganisir dalam melakukan aksi atau tindakan tertentuagar memberi \n",
    "suatu nilai balik,dalam setiap fungsi memberi nilai return Nilai kembalian agar fungsi \n",
    "menghasilkan nilai tertentu.\"\"\",\"\\n\",\"\\n\",f'\" Contoh \"',\"\\n\")\n",
    "\n",
    "#definisi fungsi\n",
    "def selamat_datang (nama):\n",
    "  print(f'Halo {nama}, selamat datang!')\n",
    "selamat_datang('Icha') #memanggil fungsi\n",
    "\n",
    "print(\"\\n\"r\"\"\"2. Built in Function dan User Defined Function\"\"\",\"\\n\",\"\"\"\n",
    "Built-In Function adalah salah satu bagian dari fungsi secara bawaan dari dalam bahasa pemrograman\n",
    "Sedangkan untuk User Defined Function adalah fungsi kita (sebagai programmer) untuk membuat dan \n",
    "mendefinisikan suatu program tersebut.\"\"\")\n",
    "\n",
    "print(\"\\n\"+5*\"=\"+\" Kesimpulan \"+5*\"=\",\"\\n\")\n",
    "print(r\"\"\"Adanya penggunaan dari fungsi sebagai programer dapat memecah/menyusun suatu program dalam \n",
    "berbagai bagian dengan memiliki nilai variable yang berada didalam fungsi terssebut sebagai nilai \n",
    "variable dari proses yang digunakan terdapat sebuah deskripsi dalam fungsi yang dikelola. \n",
    "Deskripsi tersebut ditampilkan oleh Text Editor atau IDE sebagai alat bantuan sebagai fungsi\n",
    "Dari segi tempat pemanggilan, Dala fungsi python dapat dipanggil dari berbagai tempat Bisa dariBisa\"\"\")"
   ]
  },
  {
   "cell_type": "code",
   "execution_count": 99,
   "id": "2cac4d49-d4fb-498e-8ea1-c599dc710d58",
   "metadata": {},
   "outputs": [
    {
     "name": "stdout",
     "output_type": "stream",
     "text": [
      "\n",
      "===== Kompetensi 3.B ===== \n",
      "\n"
     ]
    },
    {
     "name": "stdin",
     "output_type": "stream",
     "text": [
      "Harga  X =  70000\n",
      "Jumlah Y =  5\n"
     ]
    },
    {
     "name": "stdout",
     "output_type": "stream",
     "text": [
      "Harga X \t\t           =  350000.0\n",
      "Denda Pajak\t                   =  35000.0\n",
      "Jumlah total yang harus dibayar\t   =  385000.0\n",
      "\n",
      "===== Kesimpulan ===== \n",
      "\n",
      "Baris akhir menunjukan fungsi perhitungan , kalimat sebuah fungsi terdapat pada kalimat \"def\"\n",
      "diteruskan dengan tab sebagai indikator pada statement sebagai fungsi dan baris pemanggilan fungsi\n",
      "ketika menggunakan fungsi tidak perlu melakukan pengulangan rumus, hal tersebut akan bermanfaat \n",
      "apabila diterapkan dan kelola di dalam sebuah program , termasuk program yang besar\n",
      "\n"
     ]
    }
   ],
   "source": [
    "print(\"\\n\"+5*\"=\"+\" Kompetensi 3.B \"+5*\"=\",\"\\n\")\n",
    "\n",
    "#fungsi menghitung harga yang harus dibayar\n",
    "def jumlah(X,Y):\n",
    "    return X*Y\n",
    "X= float(input(\"Harga  X = \"))\n",
    "Y= float(input(\"Jumlah Y = \"))\n",
    "\n",
    "Total=jumlah(X,Y) \n",
    "nilaiPajak = 10/100 #nilai pajak 10%\n",
    "Pajak = Total*nilaiPajak #menghitung Pajak\n",
    "newJumlah = Total+Pajak #Menghitung jumlah yang harus bayar ditambah pajak \n",
    "\n",
    "print(\"Harga X \\t\\t           = \", Total)\n",
    "print(\"Denda Pajak\\t                   = \", Pajak)\n",
    "print(\"Jumlah total yang harus dibayar\\t   = \", newJumlah)\n",
    "\n",
    "print(\"\\n\"+5*\"=\"+\" Kesimpulan \"+5*\"=\",\"\\n\")\n",
    "print(r\"\"\"Baris akhir menunjukan fungsi perhitungan , kalimat sebuah fungsi terdapat pada kalimat \"def\"\n",
    "diteruskan dengan tab sebagai indikator pada statement sebagai fungsi dan baris pemanggilan fungsi\n",
    "ketika menggunakan fungsi tidak perlu melakukan pengulangan rumus, hal tersebut akan bermanfaat \n",
    "apabila diterapkan dan kelola di dalam sebuah program , termasuk program yang besar\n",
    "\"\"\")"
   ]
  },
  {
   "cell_type": "code",
   "execution_count": 1,
   "id": "9800757a-a472-4609-ab3b-d5ab6d529bc8",
   "metadata": {},
   "outputs": [
    {
     "name": "stdout",
     "output_type": "stream",
     "text": [
      "\n",
      "===== Kompetensi 3.C ===== \n",
      "\n"
     ]
    },
    {
     "name": "stdin",
     "output_type": "stream",
     "text": [
      "Nama Barang :  VGA\n",
      "Harga :  2500000\n",
      "Nama Barang :  MOUSE\n",
      "Harga :  60000\n"
     ]
    },
    {
     "name": "stdout",
     "output_type": "stream",
     "text": [
      "\n",
      "Nama Barang :  VGA\n",
      "Harga Barang :  2500000\n",
      "Mendapatkan diskon 5% :  2375000.0\n",
      "Pajak 10 % :  250000.0\n",
      "Total yang harus dibayar :  2625000.0\n",
      "\n",
      "Nama Barang :  MOUSE\n",
      "Harga Barang :  60000\n",
      "Pajak 10 % :  6000.0\n",
      "Total yang harus dibayar :  66000.0\n",
      "\n",
      "===== Kesimpulan ===== \n",
      "\n",
      "Constructor merupakan suatu method yang akan memberikan sebuah nilai awal disaat object tersebut dibuat\n",
      "Sedangkan Object adalah struktur data yang didefinisikan oleh kelas tersebut. Objek terbagi dari data dan metode\n",
      "bisa terdapat atribut kelas , Konstruktor adalah fungsi yang pertama kali dipanggil ketika sebuah objek diinisialisasi\n",
      "Untuk pemanggilan suatu object dapat menggunakan operator salah satunya pemanggilan barang_A.displayPembayaran\n"
     ]
    }
   ],
   "source": [
    "print(\"\\n\"+5*\"=\"+\" Kompetensi 3.C \"+5*\"=\",\"\\n\")\n",
    "\n",
    "class penjualan:\n",
    "    \n",
    "    #Construktor\n",
    "    def __init__(self):\n",
    "        \n",
    "        #Input barang dan Harga\n",
    "        self.namaBarang = str(input(\"Nama Barang : \"))\n",
    "        self.harga = int(input(\"Harga : \"))\n",
    "        \n",
    "        #variabel pajak\n",
    "        self.pajak = self.harga * 0.1 #pajak 10%\n",
    "        \n",
    "        #Harga dan hitung Total harga kondisi\n",
    "        if self.harga>100000:\n",
    "            self.newHarga = self.harga - (0.05*self.harga) #diluar pajak\n",
    "            self.Total = self.newHarga + self.pajak\n",
    "        else :\n",
    "            self.Total = self.pajak + self.harga\n",
    "            \n",
    "    #Menampilkan penjualan\n",
    "    def displayPembayaran(self):\n",
    "        print (\"\\nNama Barang : \", self.namaBarang)\n",
    "        print(\"Harga Barang : \", self.harga)\n",
    "        \n",
    "        #Pengecekan Harga Barang\n",
    "        if self.harga>100000:\n",
    "            print(\"Mendapatkan diskon 5% : \", self.newHarga)\n",
    "            \n",
    "        print(\"Pajak 10 % : \", self.pajak)\n",
    "        print(\"Total yang harus dibayar : \", self.Total)\n",
    "        \n",
    "barang_A= penjualan()\n",
    "barang_B= penjualan()\n",
    "barang_A.displayPembayaran()\n",
    "barang_B.displayPembayaran()\n",
    "\n",
    "print(\"\\n\"+5*\"=\"+\" Kesimpulan \"+5*\"=\",\"\\n\")\n",
    "print(\"\"\"Constructor merupakan suatu method yang akan memberikan sebuah nilai awal disaat object tersebut dibuat\n",
    "Sedangkan Object adalah struktur data yang didefinisikan oleh kelas tersebut. Objek terbagi dari data dan metode\n",
    "bisa terdapat atribut kelas , Konstruktor adalah fungsi yang pertama kali dipanggil ketika sebuah objek diinisialisasi\n",
    "Untuk pemanggilan suatu object dapat menggunakan operator salah satunya pemanggilan barang_A.displayPembayaran\"\"\")"
   ]
  },
  {
   "cell_type": "code",
   "execution_count": null,
   "id": "aebec9df-4055-4cf7-af09-5fb0f32600b3",
   "metadata": {},
   "outputs": [],
   "source": []
  }
 ],
 "metadata": {
  "kernelspec": {
   "display_name": "Python 3 (ipykernel)",
   "language": "python",
   "name": "python3"
  },
  "language_info": {
   "codemirror_mode": {
    "name": "ipython",
    "version": 3
   },
   "file_extension": ".py",
   "mimetype": "text/x-python",
   "name": "python",
   "nbconvert_exporter": "python",
   "pygments_lexer": "ipython3",
   "version": "3.10.5"
  }
 },
 "nbformat": 4,
 "nbformat_minor": 5
}
