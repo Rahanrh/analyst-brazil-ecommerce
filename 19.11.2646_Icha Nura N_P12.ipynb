{
 "cells": [
  {
   "cell_type": "markdown",
   "metadata": {},
   "source": [
    "PRAKTIKUM 12"
   ]
  },
  {
   "cell_type": "code",
   "execution_count": 2,
   "metadata": {},
   "outputs": [
    {
     "name": "stdout",
     "output_type": "stream",
     "text": [
      "['passengers']\n"
     ]
    }
   ],
   "source": [
    "# dataset passengers\n",
    "\n",
    "#NAMA ICHA NURA NUGRAHA\n",
    "#KELAS S1-INFORMATIKA BDL 5\n",
    "#NIM 19.11.2646\n",
    "import pymongo\n",
    "import pandas as pd\n",
    "import numpy as np\n",
    "client = pymongo.MongoClient('mongodb://localhost:27017/')\n",
    "db = client['titanic']\n",
    "print(db.list_collection_names())\n",
    "\n"
   ]
  },
  {
   "cell_type": "code",
   "execution_count": 3,
   "metadata": {},
   "outputs": [],
   "source": [
    "# Membuat dataframe dari collections \n",
    "passengers = db.passengers\n",
    "\n",
    "res = passengers.find()\n",
    "df_passengers = pd.DataFrame(list(res))"
   ]
  },
  {
   "cell_type": "code",
   "execution_count": 4,
   "metadata": {},
   "outputs": [
    {
     "data": {
      "text/html": [
       "<div>\n",
       "<style scoped>\n",
       "    .dataframe tbody tr th:only-of-type {\n",
       "        vertical-align: middle;\n",
       "    }\n",
       "\n",
       "    .dataframe tbody tr th {\n",
       "        vertical-align: top;\n",
       "    }\n",
       "\n",
       "    .dataframe thead th {\n",
       "        text-align: right;\n",
       "    }\n",
       "</style>\n",
       "<table border=\"1\" class=\"dataframe\">\n",
       "  <thead>\n",
       "    <tr style=\"text-align: right;\">\n",
       "      <th></th>\n",
       "      <th>_id</th>\n",
       "      <th>PassengerId</th>\n",
       "      <th>Survived</th>\n",
       "      <th>Pclass</th>\n",
       "      <th>Name</th>\n",
       "      <th>Sex</th>\n",
       "      <th>Age</th>\n",
       "      <th>SibSp</th>\n",
       "      <th>Parch</th>\n",
       "      <th>Ticket</th>\n",
       "      <th>Fare</th>\n",
       "      <th>Embarked</th>\n",
       "      <th>Cabin</th>\n",
       "    </tr>\n",
       "  </thead>\n",
       "  <tbody>\n",
       "    <tr>\n",
       "      <th>0</th>\n",
       "      <td>False</td>\n",
       "      <td>False</td>\n",
       "      <td>False</td>\n",
       "      <td>False</td>\n",
       "      <td>False</td>\n",
       "      <td>False</td>\n",
       "      <td>False</td>\n",
       "      <td>False</td>\n",
       "      <td>False</td>\n",
       "      <td>False</td>\n",
       "      <td>False</td>\n",
       "      <td>False</td>\n",
       "      <td>True</td>\n",
       "    </tr>\n",
       "    <tr>\n",
       "      <th>1</th>\n",
       "      <td>False</td>\n",
       "      <td>False</td>\n",
       "      <td>False</td>\n",
       "      <td>False</td>\n",
       "      <td>False</td>\n",
       "      <td>False</td>\n",
       "      <td>False</td>\n",
       "      <td>False</td>\n",
       "      <td>False</td>\n",
       "      <td>False</td>\n",
       "      <td>False</td>\n",
       "      <td>False</td>\n",
       "      <td>False</td>\n",
       "    </tr>\n",
       "    <tr>\n",
       "      <th>2</th>\n",
       "      <td>False</td>\n",
       "      <td>False</td>\n",
       "      <td>False</td>\n",
       "      <td>False</td>\n",
       "      <td>False</td>\n",
       "      <td>False</td>\n",
       "      <td>False</td>\n",
       "      <td>False</td>\n",
       "      <td>False</td>\n",
       "      <td>False</td>\n",
       "      <td>False</td>\n",
       "      <td>False</td>\n",
       "      <td>True</td>\n",
       "    </tr>\n",
       "    <tr>\n",
       "      <th>3</th>\n",
       "      <td>False</td>\n",
       "      <td>False</td>\n",
       "      <td>False</td>\n",
       "      <td>False</td>\n",
       "      <td>False</td>\n",
       "      <td>False</td>\n",
       "      <td>False</td>\n",
       "      <td>False</td>\n",
       "      <td>False</td>\n",
       "      <td>False</td>\n",
       "      <td>False</td>\n",
       "      <td>False</td>\n",
       "      <td>False</td>\n",
       "    </tr>\n",
       "    <tr>\n",
       "      <th>4</th>\n",
       "      <td>False</td>\n",
       "      <td>False</td>\n",
       "      <td>False</td>\n",
       "      <td>False</td>\n",
       "      <td>False</td>\n",
       "      <td>False</td>\n",
       "      <td>False</td>\n",
       "      <td>False</td>\n",
       "      <td>False</td>\n",
       "      <td>False</td>\n",
       "      <td>False</td>\n",
       "      <td>False</td>\n",
       "      <td>True</td>\n",
       "    </tr>\n",
       "    <tr>\n",
       "      <th>...</th>\n",
       "      <td>...</td>\n",
       "      <td>...</td>\n",
       "      <td>...</td>\n",
       "      <td>...</td>\n",
       "      <td>...</td>\n",
       "      <td>...</td>\n",
       "      <td>...</td>\n",
       "      <td>...</td>\n",
       "      <td>...</td>\n",
       "      <td>...</td>\n",
       "      <td>...</td>\n",
       "      <td>...</td>\n",
       "      <td>...</td>\n",
       "    </tr>\n",
       "    <tr>\n",
       "      <th>886</th>\n",
       "      <td>False</td>\n",
       "      <td>False</td>\n",
       "      <td>False</td>\n",
       "      <td>False</td>\n",
       "      <td>False</td>\n",
       "      <td>False</td>\n",
       "      <td>False</td>\n",
       "      <td>False</td>\n",
       "      <td>False</td>\n",
       "      <td>False</td>\n",
       "      <td>False</td>\n",
       "      <td>False</td>\n",
       "      <td>True</td>\n",
       "    </tr>\n",
       "    <tr>\n",
       "      <th>887</th>\n",
       "      <td>False</td>\n",
       "      <td>False</td>\n",
       "      <td>False</td>\n",
       "      <td>False</td>\n",
       "      <td>False</td>\n",
       "      <td>False</td>\n",
       "      <td>False</td>\n",
       "      <td>False</td>\n",
       "      <td>False</td>\n",
       "      <td>False</td>\n",
       "      <td>False</td>\n",
       "      <td>False</td>\n",
       "      <td>False</td>\n",
       "    </tr>\n",
       "    <tr>\n",
       "      <th>888</th>\n",
       "      <td>False</td>\n",
       "      <td>False</td>\n",
       "      <td>False</td>\n",
       "      <td>False</td>\n",
       "      <td>False</td>\n",
       "      <td>False</td>\n",
       "      <td>True</td>\n",
       "      <td>False</td>\n",
       "      <td>False</td>\n",
       "      <td>False</td>\n",
       "      <td>False</td>\n",
       "      <td>False</td>\n",
       "      <td>True</td>\n",
       "    </tr>\n",
       "    <tr>\n",
       "      <th>889</th>\n",
       "      <td>False</td>\n",
       "      <td>False</td>\n",
       "      <td>False</td>\n",
       "      <td>False</td>\n",
       "      <td>False</td>\n",
       "      <td>False</td>\n",
       "      <td>False</td>\n",
       "      <td>False</td>\n",
       "      <td>False</td>\n",
       "      <td>False</td>\n",
       "      <td>False</td>\n",
       "      <td>False</td>\n",
       "      <td>False</td>\n",
       "    </tr>\n",
       "    <tr>\n",
       "      <th>890</th>\n",
       "      <td>False</td>\n",
       "      <td>False</td>\n",
       "      <td>False</td>\n",
       "      <td>False</td>\n",
       "      <td>False</td>\n",
       "      <td>False</td>\n",
       "      <td>False</td>\n",
       "      <td>False</td>\n",
       "      <td>False</td>\n",
       "      <td>False</td>\n",
       "      <td>False</td>\n",
       "      <td>False</td>\n",
       "      <td>True</td>\n",
       "    </tr>\n",
       "  </tbody>\n",
       "</table>\n",
       "<p>891 rows × 13 columns</p>\n",
       "</div>"
      ],
      "text/plain": [
       "       _id  PassengerId  Survived  Pclass   Name    Sex    Age  SibSp  Parch  \\\n",
       "0    False        False     False   False  False  False  False  False  False   \n",
       "1    False        False     False   False  False  False  False  False  False   \n",
       "2    False        False     False   False  False  False  False  False  False   \n",
       "3    False        False     False   False  False  False  False  False  False   \n",
       "4    False        False     False   False  False  False  False  False  False   \n",
       "..     ...          ...       ...     ...    ...    ...    ...    ...    ...   \n",
       "886  False        False     False   False  False  False  False  False  False   \n",
       "887  False        False     False   False  False  False  False  False  False   \n",
       "888  False        False     False   False  False  False   True  False  False   \n",
       "889  False        False     False   False  False  False  False  False  False   \n",
       "890  False        False     False   False  False  False  False  False  False   \n",
       "\n",
       "     Ticket   Fare  Embarked  Cabin  \n",
       "0     False  False     False   True  \n",
       "1     False  False     False  False  \n",
       "2     False  False     False   True  \n",
       "3     False  False     False  False  \n",
       "4     False  False     False   True  \n",
       "..      ...    ...       ...    ...  \n",
       "886   False  False     False   True  \n",
       "887   False  False     False  False  \n",
       "888   False  False     False   True  \n",
       "889   False  False     False  False  \n",
       "890   False  False     False   True  \n",
       "\n",
       "[891 rows x 13 columns]"
      ]
     },
     "execution_count": 4,
     "metadata": {},
     "output_type": "execute_result"
    }
   ],
   "source": [
    "#  Mengecek apakah ada nilai NaN pada dataframe passengers\n",
    "df_passengers.isna()"
   ]
  },
  {
   "cell_type": "code",
   "execution_count": 5,
   "metadata": {},
   "outputs": [
    {
     "data": {
      "text/plain": [
       "_id              0\n",
       "PassengerId      0\n",
       "Survived         0\n",
       "Pclass           0\n",
       "Name             0\n",
       "Sex              0\n",
       "Age            177\n",
       "SibSp            0\n",
       "Parch            0\n",
       "Ticket           0\n",
       "Fare             0\n",
       "Embarked         2\n",
       "Cabin          687\n",
       "dtype: int64"
      ]
     },
     "execution_count": 5,
     "metadata": {},
     "output_type": "execute_result"
    }
   ],
   "source": [
    "# Menghitung jumlah missing value dari setiap kolom\n",
    "df_passengers.isna().sum()"
   ]
  },
  {
   "cell_type": "code",
   "execution_count": 6,
   "metadata": {},
   "outputs": [
    {
     "name": "stdout",
     "output_type": "stream",
     "text": [
      "<class 'pandas.core.frame.DataFrame'>\n",
      "RangeIndex: 891 entries, 0 to 890\n",
      "Data columns (total 13 columns):\n",
      " #   Column       Non-Null Count  Dtype \n",
      "---  ------       --------------  ----- \n",
      " 0   _id          891 non-null    object\n",
      " 1   PassengerId  891 non-null    object\n",
      " 2   Survived     891 non-null    object\n",
      " 3   Pclass       891 non-null    object\n",
      " 4   Name         891 non-null    object\n",
      " 5   Sex          891 non-null    object\n",
      " 6   Age          714 non-null    object\n",
      " 7   SibSp        891 non-null    object\n",
      " 8   Parch        891 non-null    object\n",
      " 9   Ticket       891 non-null    object\n",
      " 10  Fare         891 non-null    object\n",
      " 11  Embarked     889 non-null    object\n",
      " 12  Cabin        204 non-null    object\n",
      "dtypes: object(13)\n",
      "memory usage: 90.6+ KB\n"
     ]
    }
   ],
   "source": [
    "# Melihat data type yang nanti akan kita gunakan\n",
    "df_passengers.info()"
   ]
  },
  {
   "cell_type": "code",
   "execution_count": 7,
   "metadata": {},
   "outputs": [],
   "source": [
    "#mengubah type data Age menjadi float\n",
    "df_passengers['Age']=df_passengers['Age'].astype(float)"
   ]
  },
  {
   "cell_type": "code",
   "execution_count": 8,
   "metadata": {},
   "outputs": [
    {
     "data": {
      "text/html": [
       "<div>\n",
       "<style scoped>\n",
       "    .dataframe tbody tr th:only-of-type {\n",
       "        vertical-align: middle;\n",
       "    }\n",
       "\n",
       "    .dataframe tbody tr th {\n",
       "        vertical-align: top;\n",
       "    }\n",
       "\n",
       "    .dataframe thead th {\n",
       "        text-align: right;\n",
       "    }\n",
       "</style>\n",
       "<table border=\"1\" class=\"dataframe\">\n",
       "  <thead>\n",
       "    <tr style=\"text-align: right;\">\n",
       "      <th></th>\n",
       "      <th>_id</th>\n",
       "      <th>PassengerId</th>\n",
       "      <th>Survived</th>\n",
       "      <th>Pclass</th>\n",
       "      <th>Name</th>\n",
       "      <th>Sex</th>\n",
       "      <th>Age</th>\n",
       "      <th>SibSp</th>\n",
       "      <th>Parch</th>\n",
       "      <th>Ticket</th>\n",
       "      <th>Fare</th>\n",
       "      <th>Embarked</th>\n",
       "      <th>Cabin</th>\n",
       "    </tr>\n",
       "  </thead>\n",
       "  <tbody>\n",
       "    <tr>\n",
       "      <th>0</th>\n",
       "      <td>60d04ebfdb8077b4ebc9865f</td>\n",
       "      <td>1</td>\n",
       "      <td>0</td>\n",
       "      <td>3</td>\n",
       "      <td>Braund, Mr. Owen Harris</td>\n",
       "      <td>male</td>\n",
       "      <td>22.0</td>\n",
       "      <td>1</td>\n",
       "      <td>0</td>\n",
       "      <td>A/5 21171</td>\n",
       "      <td>7.25</td>\n",
       "      <td>S</td>\n",
       "      <td>NaN</td>\n",
       "    </tr>\n",
       "    <tr>\n",
       "      <th>1</th>\n",
       "      <td>60d04ebfdb8077b4ebc98660</td>\n",
       "      <td>2</td>\n",
       "      <td>1</td>\n",
       "      <td>1</td>\n",
       "      <td>Cumings, Mrs. John Bradley (Florence Briggs Th...</td>\n",
       "      <td>female</td>\n",
       "      <td>38.0</td>\n",
       "      <td>1</td>\n",
       "      <td>0</td>\n",
       "      <td>PC 17599</td>\n",
       "      <td>71.2833</td>\n",
       "      <td>C</td>\n",
       "      <td>C85</td>\n",
       "    </tr>\n",
       "    <tr>\n",
       "      <th>2</th>\n",
       "      <td>60d04ebfdb8077b4ebc98661</td>\n",
       "      <td>3</td>\n",
       "      <td>1</td>\n",
       "      <td>3</td>\n",
       "      <td>Heikkinen, Miss. Laina</td>\n",
       "      <td>female</td>\n",
       "      <td>26.0</td>\n",
       "      <td>0</td>\n",
       "      <td>0</td>\n",
       "      <td>STON/O2. 3101282</td>\n",
       "      <td>7.925</td>\n",
       "      <td>S</td>\n",
       "      <td>NaN</td>\n",
       "    </tr>\n",
       "    <tr>\n",
       "      <th>3</th>\n",
       "      <td>60d04ebfdb8077b4ebc98662</td>\n",
       "      <td>4</td>\n",
       "      <td>1</td>\n",
       "      <td>1</td>\n",
       "      <td>Futrelle, Mrs. Jacques Heath (Lily May Peel)</td>\n",
       "      <td>female</td>\n",
       "      <td>35.0</td>\n",
       "      <td>1</td>\n",
       "      <td>0</td>\n",
       "      <td>113803</td>\n",
       "      <td>53.1</td>\n",
       "      <td>S</td>\n",
       "      <td>C123</td>\n",
       "    </tr>\n",
       "    <tr>\n",
       "      <th>4</th>\n",
       "      <td>60d04ebfdb8077b4ebc98663</td>\n",
       "      <td>5</td>\n",
       "      <td>0</td>\n",
       "      <td>3</td>\n",
       "      <td>Allen, Mr. William Henry</td>\n",
       "      <td>male</td>\n",
       "      <td>35.0</td>\n",
       "      <td>0</td>\n",
       "      <td>0</td>\n",
       "      <td>373450</td>\n",
       "      <td>8.05</td>\n",
       "      <td>S</td>\n",
       "      <td>NaN</td>\n",
       "    </tr>\n",
       "  </tbody>\n",
       "</table>\n",
       "</div>"
      ],
      "text/plain": [
       "                        _id PassengerId Survived Pclass  \\\n",
       "0  60d04ebfdb8077b4ebc9865f           1        0      3   \n",
       "1  60d04ebfdb8077b4ebc98660           2        1      1   \n",
       "2  60d04ebfdb8077b4ebc98661           3        1      3   \n",
       "3  60d04ebfdb8077b4ebc98662           4        1      1   \n",
       "4  60d04ebfdb8077b4ebc98663           5        0      3   \n",
       "\n",
       "                                                Name     Sex   Age SibSp  \\\n",
       "0                            Braund, Mr. Owen Harris    male  22.0     1   \n",
       "1  Cumings, Mrs. John Bradley (Florence Briggs Th...  female  38.0     1   \n",
       "2                             Heikkinen, Miss. Laina  female  26.0     0   \n",
       "3       Futrelle, Mrs. Jacques Heath (Lily May Peel)  female  35.0     1   \n",
       "4                           Allen, Mr. William Henry    male  35.0     0   \n",
       "\n",
       "  Parch            Ticket     Fare Embarked Cabin  \n",
       "0     0         A/5 21171     7.25        S   NaN  \n",
       "1     0          PC 17599  71.2833        C   C85  \n",
       "2     0  STON/O2. 3101282    7.925        S   NaN  \n",
       "3     0            113803     53.1        S  C123  \n",
       "4     0            373450     8.05        S   NaN  "
      ]
     },
     "execution_count": 8,
     "metadata": {},
     "output_type": "execute_result"
    }
   ],
   "source": [
    "df_passengers.head()"
   ]
  },
  {
   "cell_type": "code",
   "execution_count": 9,
   "metadata": {},
   "outputs": [
    {
     "name": "stdout",
     "output_type": "stream",
     "text": [
      "<class 'pandas.core.frame.DataFrame'>\n",
      "RangeIndex: 891 entries, 0 to 890\n",
      "Data columns (total 13 columns):\n",
      " #   Column       Non-Null Count  Dtype  \n",
      "---  ------       --------------  -----  \n",
      " 0   _id          891 non-null    object \n",
      " 1   PassengerId  891 non-null    object \n",
      " 2   Survived     891 non-null    object \n",
      " 3   Pclass       891 non-null    object \n",
      " 4   Name         891 non-null    object \n",
      " 5   Sex          891 non-null    object \n",
      " 6   Age          714 non-null    float64\n",
      " 7   SibSp        891 non-null    object \n",
      " 8   Parch        891 non-null    object \n",
      " 9   Ticket       891 non-null    object \n",
      " 10  Fare         891 non-null    object \n",
      " 11  Embarked     889 non-null    object \n",
      " 12  Cabin        204 non-null    object \n",
      "dtypes: float64(1), object(12)\n",
      "memory usage: 90.6+ KB\n"
     ]
    }
   ],
   "source": [
    "# melakukan pengecheckan setelah melakukan perubahan \n",
    "df_passengers.info()"
   ]
  },
  {
   "cell_type": "code",
   "execution_count": 10,
   "metadata": {},
   "outputs": [
    {
     "name": "stdout",
     "output_type": "stream",
     "text": [
      "                          _id PassengerId Survived Pclass  \\\n",
      "5    60d04ebfdb8077b4ebc98664           6        0      3   \n",
      "17   60d04ebfdb8077b4ebc98670          18        1      2   \n",
      "19   60d04ebfdb8077b4ebc98672          20        1      3   \n",
      "26   60d04ebfdb8077b4ebc98679          27        0      3   \n",
      "28   60d04ebfdb8077b4ebc9867b          29        1      3   \n",
      "..                        ...         ...      ...    ...   \n",
      "859  60d04ebfdb8077b4ebc989ba         860        0      3   \n",
      "863  60d04ebfdb8077b4ebc989be         864        0      3   \n",
      "868  60d04ebfdb8077b4ebc989c3         869        0      3   \n",
      "878  60d04ebfdb8077b4ebc989cd         879        0      3   \n",
      "888  60d04ebfdb8077b4ebc989d7         889        0      3   \n",
      "\n",
      "                                         Name     Sex  Age SibSp Parch  \\\n",
      "5                            Moran, Mr. James    male  NaN     0     0   \n",
      "17               Williams, Mr. Charles Eugene    male  NaN     0     0   \n",
      "19                    Masselmani, Mrs. Fatima  female  NaN     0     0   \n",
      "26                    Emir, Mr. Farred Chehab    male  NaN     0     0   \n",
      "28              O'Dwyer, Miss. Ellen \"Nellie\"  female  NaN     0     0   \n",
      "..                                        ...     ...  ...   ...   ...   \n",
      "859                          Razi, Mr. Raihed    male  NaN     0     0   \n",
      "863         Sage, Miss. Dorothy Edith \"Dolly\"  female  NaN     8     2   \n",
      "868               van Melkebeke, Mr. Philemon    male  NaN     0     0   \n",
      "878                        Laleff, Mr. Kristo    male  NaN     0     0   \n",
      "888  Johnston, Miss. Catherine Helen \"Carrie\"  female  NaN     1     2   \n",
      "\n",
      "         Ticket    Fare Embarked Cabin  \n",
      "5        330877  8.4583        Q   NaN  \n",
      "17       244373      13        S   NaN  \n",
      "19         2649   7.225        C   NaN  \n",
      "26         2631   7.225        C   NaN  \n",
      "28       330959  7.8792        Q   NaN  \n",
      "..          ...     ...      ...   ...  \n",
      "859        2629  7.2292        C   NaN  \n",
      "863    CA. 2343   69.55        S   NaN  \n",
      "868      345777     9.5        S   NaN  \n",
      "878      349217  7.8958        S   NaN  \n",
      "888  W./C. 6607   23.45        S   NaN  \n",
      "\n",
      "[177 rows x 13 columns]\n"
     ]
    }
   ],
   "source": [
    "# identifikasi NaN values menggunakan boolean index\n",
    "print(df_passengers[df_passengers['Age'].isnull()])"
   ]
  },
  {
   "cell_type": "markdown",
   "metadata": {},
   "source": [
    "DARI IDENTIFIKASI KITA DAPAT MELIHAT KOLOM AGE KOSONG PADA BARIS 5 , 17 , 19 , 26 , 28 \n",
    "... 859 , 863 , 868 , 878 , 888 "
   ]
  },
  {
   "cell_type": "code",
   "execution_count": 9,
   "metadata": {},
   "outputs": [
    {
     "name": "stdout",
     "output_type": "stream",
     "text": [
      "29.69911764705882\n"
     ]
    }
   ],
   "source": [
    "# MENCARI NILAI RATA RATA PADA KOLOM UMUR\n",
    "rata_umur = df_passengers['Age'].mean()\n",
    "print(rata_umur)"
   ]
  },
  {
   "cell_type": "code",
   "execution_count": 10,
   "metadata": {},
   "outputs": [],
   "source": [
    "# MENGISI NILAI KOSONG PADA KOLOM AGE DENGAN NILAI RATA RATA YANG DIDAPAT\n",
    "# MENGGUNAKAN FUNGSI FILLNA() DENGAN MENGGUNAKAN NILAI YANG KITA TENTUKAN\n",
    "df_passengers['Age'] = df_passengers['Age'].fillna(rata_umur)"
   ]
  },
  {
   "cell_type": "code",
   "execution_count": 12,
   "metadata": {},
   "outputs": [
    {
     "data": {
      "text/html": [
       "<div>\n",
       "<style scoped>\n",
       "    .dataframe tbody tr th:only-of-type {\n",
       "        vertical-align: middle;\n",
       "    }\n",
       "\n",
       "    .dataframe tbody tr th {\n",
       "        vertical-align: top;\n",
       "    }\n",
       "\n",
       "    .dataframe thead th {\n",
       "        text-align: right;\n",
       "    }\n",
       "</style>\n",
       "<table border=\"1\" class=\"dataframe\">\n",
       "  <thead>\n",
       "    <tr style=\"text-align: right;\">\n",
       "      <th></th>\n",
       "      <th>Age</th>\n",
       "    </tr>\n",
       "  </thead>\n",
       "  <tbody>\n",
       "    <tr>\n",
       "      <th>5</th>\n",
       "      <td>29.699118</td>\n",
       "    </tr>\n",
       "    <tr>\n",
       "      <th>17</th>\n",
       "      <td>29.699118</td>\n",
       "    </tr>\n",
       "    <tr>\n",
       "      <th>19</th>\n",
       "      <td>29.699118</td>\n",
       "    </tr>\n",
       "    <tr>\n",
       "      <th>26</th>\n",
       "      <td>29.699118</td>\n",
       "    </tr>\n",
       "    <tr>\n",
       "      <th>28</th>\n",
       "      <td>29.699118</td>\n",
       "    </tr>\n",
       "    <tr>\n",
       "      <th>...</th>\n",
       "      <td>...</td>\n",
       "    </tr>\n",
       "    <tr>\n",
       "      <th>859</th>\n",
       "      <td>29.699118</td>\n",
       "    </tr>\n",
       "    <tr>\n",
       "      <th>863</th>\n",
       "      <td>29.699118</td>\n",
       "    </tr>\n",
       "    <tr>\n",
       "      <th>868</th>\n",
       "      <td>29.699118</td>\n",
       "    </tr>\n",
       "    <tr>\n",
       "      <th>878</th>\n",
       "      <td>29.699118</td>\n",
       "    </tr>\n",
       "    <tr>\n",
       "      <th>888</th>\n",
       "      <td>29.699118</td>\n",
       "    </tr>\n",
       "  </tbody>\n",
       "</table>\n",
       "<p>177 rows × 1 columns</p>\n",
       "</div>"
      ],
      "text/plain": [
       "           Age\n",
       "5    29.699118\n",
       "17   29.699118\n",
       "19   29.699118\n",
       "26   29.699118\n",
       "28   29.699118\n",
       "..         ...\n",
       "859  29.699118\n",
       "863  29.699118\n",
       "868  29.699118\n",
       "878  29.699118\n",
       "888  29.699118\n",
       "\n",
       "[177 rows x 1 columns]"
      ]
     },
     "execution_count": 12,
     "metadata": {},
     "output_type": "execute_result"
    }
   ],
   "source": [
    "#KITA DATA KOSONG SUDAH BERISIKAN NILAI RATA RATA , DISETIAP BARIS YANG SUDAH DI IDENTIFIKASI\n",
    "df_passengers.loc[df_passengers['Age']==29.69911764705882,['Age']]"
   ]
  },
  {
   "cell_type": "code",
   "execution_count": 13,
   "metadata": {},
   "outputs": [
    {
     "data": {
      "text/plain": [
       "0"
      ]
     },
     "execution_count": 13,
     "metadata": {},
     "output_type": "execute_result"
    }
   ],
   "source": [
    "# MELAKUKAN PENGECHECKAN MISSING VALUE PADA KOLOM AGE\n",
    "df_passengers['Age'].isna().sum()"
   ]
  },
  {
   "cell_type": "code",
   "execution_count": 14,
   "metadata": {},
   "outputs": [
    {
     "data": {
      "text/plain": [
       "_id              0\n",
       "PassengerId      0\n",
       "Survived         0\n",
       "Pclass           0\n",
       "Name             0\n",
       "Sex              0\n",
       "Age              0\n",
       "SibSp            0\n",
       "Parch            0\n",
       "Ticket           0\n",
       "Fare             0\n",
       "Embarked         2\n",
       "Cabin          687\n",
       "dtype: int64"
      ]
     },
     "execution_count": 14,
     "metadata": {},
     "output_type": "execute_result"
    }
   ],
   "source": [
    "# MELAKUKAN PENGECHECKAN MISSING VALUE \n",
    "# PADA DATAFRAME MASIH TERDAPAT MISSING VALUE PADA Embarked dan Cabin\n",
    "df_passengers.isna().sum()"
   ]
  },
  {
   "cell_type": "markdown",
   "metadata": {},
   "source": [
    "LALU KITA MENCOBA MELAKUKAN PERBANDINGAN PENGISIAN DATA KOSONG DENGAN NILAI TENGAH"
   ]
  },
  {
   "cell_type": "code",
   "execution_count": 11,
   "metadata": {},
   "outputs": [
    {
     "name": "stdout",
     "output_type": "stream",
     "text": [
      "28.0\n"
     ]
    }
   ],
   "source": [
    "# MELAKUKAN PENCARIAN NILAI TENGAH \n",
    "Umur_tengah = df_passengers['Age'].median()\n",
    "print(Umur_tengah)"
   ]
  },
  {
   "cell_type": "markdown",
   "metadata": {},
   "source": [
    "KITA MASUKAN NILAI TENGAH YANG SUDAH KITA CARI "
   ]
  },
  {
   "cell_type": "code",
   "execution_count": 12,
   "metadata": {},
   "outputs": [],
   "source": [
    "df_passengers['Age'] = df_passengers['Age'].fillna(Umur_tengah)"
   ]
  },
  {
   "cell_type": "code",
   "execution_count": 13,
   "metadata": {},
   "outputs": [
    {
     "data": {
      "text/plain": [
       "_id              0\n",
       "PassengerId      0\n",
       "Survived         0\n",
       "Pclass           0\n",
       "Name             0\n",
       "Sex              0\n",
       "Age              0\n",
       "SibSp            0\n",
       "Parch            0\n",
       "Ticket           0\n",
       "Fare             0\n",
       "Embarked         2\n",
       "Cabin          687\n",
       "dtype: int64"
      ]
     },
     "execution_count": 13,
     "metadata": {},
     "output_type": "execute_result"
    }
   ],
   "source": [
    "#KITA CHECK NILAI MASIH TERDAPAT NILAI KOSONG ATAU TIDAK\n",
    "df_passengers.isna().sum()"
   ]
  },
  {
   "cell_type": "code",
   "execution_count": 14,
   "metadata": {},
   "outputs": [
    {
     "data": {
      "text/html": [
       "<div>\n",
       "<style scoped>\n",
       "    .dataframe tbody tr th:only-of-type {\n",
       "        vertical-align: middle;\n",
       "    }\n",
       "\n",
       "    .dataframe tbody tr th {\n",
       "        vertical-align: top;\n",
       "    }\n",
       "\n",
       "    .dataframe thead th {\n",
       "        text-align: right;\n",
       "    }\n",
       "</style>\n",
       "<table border=\"1\" class=\"dataframe\">\n",
       "  <thead>\n",
       "    <tr style=\"text-align: right;\">\n",
       "      <th></th>\n",
       "      <th>Age</th>\n",
       "    </tr>\n",
       "  </thead>\n",
       "  <tbody>\n",
       "    <tr>\n",
       "      <th>5</th>\n",
       "      <td>28.0</td>\n",
       "    </tr>\n",
       "    <tr>\n",
       "      <th>17</th>\n",
       "      <td>28.0</td>\n",
       "    </tr>\n",
       "    <tr>\n",
       "      <th>19</th>\n",
       "      <td>28.0</td>\n",
       "    </tr>\n",
       "    <tr>\n",
       "      <th>23</th>\n",
       "      <td>28.0</td>\n",
       "    </tr>\n",
       "    <tr>\n",
       "      <th>26</th>\n",
       "      <td>28.0</td>\n",
       "    </tr>\n",
       "    <tr>\n",
       "      <th>...</th>\n",
       "      <td>...</td>\n",
       "    </tr>\n",
       "    <tr>\n",
       "      <th>868</th>\n",
       "      <td>28.0</td>\n",
       "    </tr>\n",
       "    <tr>\n",
       "      <th>874</th>\n",
       "      <td>28.0</td>\n",
       "    </tr>\n",
       "    <tr>\n",
       "      <th>878</th>\n",
       "      <td>28.0</td>\n",
       "    </tr>\n",
       "    <tr>\n",
       "      <th>883</th>\n",
       "      <td>28.0</td>\n",
       "    </tr>\n",
       "    <tr>\n",
       "      <th>888</th>\n",
       "      <td>28.0</td>\n",
       "    </tr>\n",
       "  </tbody>\n",
       "</table>\n",
       "<p>202 rows × 1 columns</p>\n",
       "</div>"
      ],
      "text/plain": [
       "      Age\n",
       "5    28.0\n",
       "17   28.0\n",
       "19   28.0\n",
       "23   28.0\n",
       "26   28.0\n",
       "..    ...\n",
       "868  28.0\n",
       "874  28.0\n",
       "878  28.0\n",
       "883  28.0\n",
       "888  28.0\n",
       "\n",
       "[202 rows x 1 columns]"
      ]
     },
     "execution_count": 14,
     "metadata": {},
     "output_type": "execute_result"
    }
   ],
   "source": [
    "#KITA CHECK DATA KOSONG SUDAH TER ISI DENGAN NILAI TENGAH YANG KITA CARI TADI\n",
    "df_passengers.loc[df_passengers['Age']==28.0,['Age']]"
   ]
  },
  {
   "cell_type": "markdown",
   "metadata": {},
   "source": [
    "ANALISA PENGISIAN DATA KOSONG ANTARA RATA-RATA UMUR DAN NILAI TENGAH DAPAT DISIMPULKAN BAHWA RATA RATA MENGISI UMUR DENGAN NILAI 29.69911764705882 SEDANGKAN NILAI TENGAH 28 JADI RELATIF LEBIH BAIK MENGGUNAKAN MEDIAN ( NILAI TENGAH ) DALAM MENGISI MISSING VALUE PADA KOLOM AGE KARENA UMUR MERUPAKAN NUMERIK DISKRET "
   ]
  },
  {
   "cell_type": "markdown",
   "metadata": {},
   "source": []
  },
  {
   "cell_type": "code",
   "execution_count": 15,
   "metadata": {},
   "outputs": [],
   "source": [
    "# feature Cabin merupakan variabel kategorik, saya akan mengisi dengan nilai modus\n",
    "# mengisi data kosong pada kolom cabin menggunakan nilai modus\n",
    "import statistics as stat\n",
    "df_passengers['Cabin'].fillna(stat.mode(df_passengers['Cabin'].dropna()), inplace = True)"
   ]
  },
  {
   "cell_type": "code",
   "execution_count": 16,
   "metadata": {},
   "outputs": [
    {
     "data": {
      "text/plain": [
       "_id            0\n",
       "PassengerId    0\n",
       "Survived       0\n",
       "Pclass         0\n",
       "Name           0\n",
       "Sex            0\n",
       "Age            0\n",
       "SibSp          0\n",
       "Parch          0\n",
       "Ticket         0\n",
       "Fare           0\n",
       "Embarked       2\n",
       "Cabin          0\n",
       "dtype: int64"
      ]
     },
     "execution_count": 16,
     "metadata": {},
     "output_type": "execute_result"
    }
   ],
   "source": [
    "df_passengers.isnull().sum()"
   ]
  },
  {
   "cell_type": "code",
   "execution_count": 17,
   "metadata": {},
   "outputs": [
    {
     "name": "stdout",
     "output_type": "stream",
     "text": [
      "                          _id PassengerId Survived Pclass  \\\n",
      "0    60d04ebfdb8077b4ebc9865f           1        0      3   \n",
      "1    60d04ebfdb8077b4ebc98660           2        1      1   \n",
      "2    60d04ebfdb8077b4ebc98661           3        1      3   \n",
      "3    60d04ebfdb8077b4ebc98662           4        1      1   \n",
      "4    60d04ebfdb8077b4ebc98663           5        0      3   \n",
      "..                        ...         ...      ...    ...   \n",
      "886  60d04ebfdb8077b4ebc989d5         887        0      2   \n",
      "887  60d04ebfdb8077b4ebc989d6         888        1      1   \n",
      "888  60d04ebfdb8077b4ebc989d7         889        0      3   \n",
      "889  60d04ebfdb8077b4ebc989d8         890        1      1   \n",
      "890  60d04ebfdb8077b4ebc989d9         891        0      3   \n",
      "\n",
      "                                                  Name     Sex   Age SibSp  \\\n",
      "0                              Braund, Mr. Owen Harris    male  22.0     1   \n",
      "1    Cumings, Mrs. John Bradley (Florence Briggs Th...  female  38.0     1   \n",
      "2                               Heikkinen, Miss. Laina  female  26.0     0   \n",
      "3         Futrelle, Mrs. Jacques Heath (Lily May Peel)  female  35.0     1   \n",
      "4                             Allen, Mr. William Henry    male  35.0     0   \n",
      "..                                                 ...     ...   ...   ...   \n",
      "886                              Montvila, Rev. Juozas    male  27.0     0   \n",
      "887                       Graham, Miss. Margaret Edith  female  19.0     0   \n",
      "888           Johnston, Miss. Catherine Helen \"Carrie\"  female  28.0     1   \n",
      "889                              Behr, Mr. Karl Howell    male  26.0     0   \n",
      "890                                Dooley, Mr. Patrick    male  32.0     0   \n",
      "\n",
      "    Parch            Ticket     Fare Embarked Cabin  \n",
      "0       0         A/5 21171     7.25        S    G6  \n",
      "1       0          PC 17599  71.2833        C   C85  \n",
      "2       0  STON/O2. 3101282    7.925        S    G6  \n",
      "3       0            113803     53.1        S  C123  \n",
      "4       0            373450     8.05        S    G6  \n",
      "..    ...               ...      ...      ...   ...  \n",
      "886     0            211536       13        S    G6  \n",
      "887     0            112053       30        S   B42  \n",
      "888     2        W./C. 6607    23.45        S    G6  \n",
      "889     0            111369       30        C  C148  \n",
      "890     0            370376     7.75        Q    G6  \n",
      "\n",
      "[891 rows x 13 columns]\n"
     ]
    }
   ],
   "source": [
    "print(df_passengers)"
   ]
  },
  {
   "cell_type": "markdown",
   "metadata": {},
   "source": [
    "KESIMPULAN"
   ]
  },
  {
   "cell_type": "markdown",
   "metadata": {},
   "source": [
    "MISSING VALUE MERUPAKAN SUATU INFORMASI YANG TIDAK TERSEDIA MEMILIKI NILAI KOSONG NaN PADA SUATU OBJEK DALAM SETIAP KASUS , MISSING VALUE TERJADI KARENA INFORMASI TERSEBUT TIDAK DIBERIKAN ATAU , SULIT UNTUK DICARI BAHKAN KESALAHAN SUATU SYSTEM YANG MENYEBABKAN TERJADINYA DATA INFORMASI TERSEBUT KOSONG . DALAM MELAKUKAN PENGISIAN DAN PENGHAPUSAN MISSING VALUE TIDAK SEMUA DATA HARUS DI ISI ADA BEBERAPA ALGORITMA YANG TIDAK PERLU UNTUK MELAKUKAN PREPORCESING DATA SEPERTI KKN DECISION TREE DLL YANG TIDAK MENGHARUSKAN PENGHAPUSAN DAN PENGISIAN VALUE DATA SEPERTI MELAKUKAN REGRESION LINEAR , PENGISIAN MISSING VALUE DAPAT DISESUAIKAN DENGAN KEBUTUHAN SEPERTI PENGISIAN CONTOH DIATAS DALAM MENANGANI KASUS MISSING VALUE 'AGE' DENGAN MENGGUNAKAN NILAI MEDIAN SEBAGAI VARIBLE NILAI DISKRET DAN PENGISIAN PADA CABIN YANG MENGGUNAKAN NILAI MODULUS SEBAGAI VARIBLE NILAI KATEGORIK"
   ]
  }
 ],
 "metadata": {
  "kernelspec": {
   "display_name": "Python 3.10.5 64-bit",
   "language": "python",
   "name": "python3"
  },
  "language_info": {
   "codemirror_mode": {
    "name": "ipython",
    "version": 3
   },
   "file_extension": ".py",
   "mimetype": "text/x-python",
   "name": "python",
   "nbconvert_exporter": "python",
   "pygments_lexer": "ipython3",
   "version": "3.10.5"
  },
  "orig_nbformat": 4,
  "vscode": {
   "interpreter": {
    "hash": "7b8c99a053eef61faf9f5f3b42453f9486f5754c673c060809da027af8576373"
   }
  }
 },
 "nbformat": 4,
 "nbformat_minor": 2
}
